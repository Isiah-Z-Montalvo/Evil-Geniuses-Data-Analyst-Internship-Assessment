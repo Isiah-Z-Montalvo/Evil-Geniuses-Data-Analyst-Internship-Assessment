{
 "cells": [
  {
   "cell_type": "markdown",
   "id": "06a7839c-ebb3-420a-8b73-5079702eb2cb",
   "metadata": {},
   "source": [
    "# Isiah Montalvo Evil Geniuses Data Analyst Internship Assessment\n",
    "To the wonderful person who ends up reviewing this assessment over at Evil Geniuses, I hope this finds you well! Throughout this notebook, I will be answering your required questions and detailing both my analysis and my thought process behind how I choose to explore this dataset. "
   ]
  },
  {
   "cell_type": "markdown",
   "id": "dc31bd5b-fc9b-4b02-96f4-3fdb7eabef2b",
   "metadata": {},
   "source": [
    "## Loading the Data"
   ]
  },
  {
   "cell_type": "code",
   "execution_count": 1,
   "id": "338404f0-510e-4a45-bfbc-2e3de34cb6c5",
   "metadata": {},
   "outputs": [],
   "source": [
    "import pandas as pd\n",
    "import numpy as np\n",
    "import matplotlib.pyplot as plt\n",
    "from scipy.stats import lognorm"
   ]
  },
  {
   "cell_type": "code",
   "execution_count": 2,
   "id": "6f0ce590-e214-4b2b-92de-5b3cb7c32ef0",
   "metadata": {},
   "outputs": [],
   "source": [
    "df = pd.read_excel(\"data/social_data.xlsx\")"
   ]
  },
  {
   "cell_type": "markdown",
   "id": "85811515-e78c-47a7-84ee-bda3dc91bb02",
   "metadata": {},
   "source": [
    "## Data Cleaning\n",
    "First things first, data cleaning! Python packages tend to dislike whitespace, so we simply remove all leading and trailing whitespace from the data and replace spaces between words with an underscore."
   ]
  },
  {
   "cell_type": "code",
   "execution_count": 3,
   "id": "f1c2a89d-e9b9-425e-94c2-ac20af01ebf9",
   "metadata": {},
   "outputs": [
    {
     "data": {
      "text/plain": [
       "Published Date       datetime64[ns]\n",
       "Account                      object\n",
       "Account Type                 object\n",
       "Campaign Name                object\n",
       "Total Impressions             int64\n",
       "Total Engagements             int64\n",
       "Media Type                   object\n",
       "dtype: object"
      ]
     },
     "execution_count": 3,
     "metadata": {},
     "output_type": "execute_result"
    }
   ],
   "source": [
    "df.dtypes"
   ]
  },
  {
   "cell_type": "code",
   "execution_count": 4,
   "id": "c1971dab-0ceb-4c2c-ac98-3f9dc0902fcc",
   "metadata": {},
   "outputs": [],
   "source": [
    "df.columns = [column.replace(\" \", \"_\") for column in df.columns]"
   ]
  },
  {
   "cell_type": "code",
   "execution_count": 5,
   "id": "a3e70656-5971-4df1-9b20-d7200b7982fc",
   "metadata": {},
   "outputs": [
    {
     "name": "stdout",
     "output_type": "stream",
     "text": [
      "Unique Account values: ['CSGO' 'General' 'DOTA2' 'Content_Creators' 'Valorant']\n",
      "Unique Account_Type values: ['TWITTER' 'FBPAGE' 'INSTAGRAM' 'TIKTOK_BUSINESS' 'YOUTUBE'\n",
      " 'LINKEDIN_COMPANY']\n",
      "Unique Campaign_Name values: ['N/A' 'Community_Engagement' 'Evergreen' 'Evil_Exhibited']\n",
      "Unique Media_Type values: ['Text' 'Video' 'Photo' 'Link' 'Carousel' 'Mixed' 'Album']\n"
     ]
    }
   ],
   "source": [
    "columns = [\"Account\", \"Account_Type\", \"Campaign_Name\", \"Media_Type\"]\n",
    "for column in columns:\n",
    "    df[column] = df[column].str.strip().str.replace(\" \", \"_\")\n",
    "    print(\"Unique {} values: {}\".format(column, df[column].unique()))"
   ]
  },
  {
   "cell_type": "code",
   "execution_count": 6,
   "id": "80cbb095-cffc-4ff3-815f-fb0191f42a25",
   "metadata": {},
   "outputs": [
    {
     "data": {
      "text/html": [
       "<div>\n",
       "<style scoped>\n",
       "    .dataframe tbody tr th:only-of-type {\n",
       "        vertical-align: middle;\n",
       "    }\n",
       "\n",
       "    .dataframe tbody tr th {\n",
       "        vertical-align: top;\n",
       "    }\n",
       "\n",
       "    .dataframe thead th {\n",
       "        text-align: right;\n",
       "    }\n",
       "</style>\n",
       "<table border=\"1\" class=\"dataframe\">\n",
       "  <thead>\n",
       "    <tr style=\"text-align: right;\">\n",
       "      <th></th>\n",
       "      <th>Published_Date</th>\n",
       "      <th>Account</th>\n",
       "      <th>Account_Type</th>\n",
       "      <th>Campaign_Name</th>\n",
       "      <th>Total_Impressions</th>\n",
       "      <th>Total_Engagements</th>\n",
       "      <th>Media_Type</th>\n",
       "    </tr>\n",
       "  </thead>\n",
       "  <tbody>\n",
       "    <tr>\n",
       "      <th>0</th>\n",
       "      <td>2023-03-31 19:55:43.192</td>\n",
       "      <td>CSGO</td>\n",
       "      <td>TWITTER</td>\n",
       "      <td>N/A</td>\n",
       "      <td>0</td>\n",
       "      <td>0</td>\n",
       "      <td>Text</td>\n",
       "    </tr>\n",
       "    <tr>\n",
       "      <th>1</th>\n",
       "      <td>2023-03-31 19:49:35.243</td>\n",
       "      <td>CSGO</td>\n",
       "      <td>TWITTER</td>\n",
       "      <td>N/A</td>\n",
       "      <td>0</td>\n",
       "      <td>0</td>\n",
       "      <td>Text</td>\n",
       "    </tr>\n",
       "    <tr>\n",
       "      <th>2</th>\n",
       "      <td>2023-03-31 19:49:33.535</td>\n",
       "      <td>CSGO</td>\n",
       "      <td>TWITTER</td>\n",
       "      <td>N/A</td>\n",
       "      <td>0</td>\n",
       "      <td>0</td>\n",
       "      <td>Text</td>\n",
       "    </tr>\n",
       "    <tr>\n",
       "      <th>3</th>\n",
       "      <td>2023-03-31 19:49:31.583</td>\n",
       "      <td>CSGO</td>\n",
       "      <td>TWITTER</td>\n",
       "      <td>N/A</td>\n",
       "      <td>0</td>\n",
       "      <td>0</td>\n",
       "      <td>Text</td>\n",
       "    </tr>\n",
       "    <tr>\n",
       "      <th>4</th>\n",
       "      <td>2023-03-31 19:43:42.590</td>\n",
       "      <td>CSGO</td>\n",
       "      <td>TWITTER</td>\n",
       "      <td>Community_Engagement</td>\n",
       "      <td>9517</td>\n",
       "      <td>1215</td>\n",
       "      <td>Video</td>\n",
       "    </tr>\n",
       "  </tbody>\n",
       "</table>\n",
       "</div>"
      ],
      "text/plain": [
       "           Published_Date Account Account_Type         Campaign_Name  \\\n",
       "0 2023-03-31 19:55:43.192    CSGO      TWITTER                   N/A   \n",
       "1 2023-03-31 19:49:35.243    CSGO      TWITTER                   N/A   \n",
       "2 2023-03-31 19:49:33.535    CSGO      TWITTER                   N/A   \n",
       "3 2023-03-31 19:49:31.583    CSGO      TWITTER                   N/A   \n",
       "4 2023-03-31 19:43:42.590    CSGO      TWITTER  Community_Engagement   \n",
       "\n",
       "   Total_Impressions  Total_Engagements Media_Type  \n",
       "0                  0                  0       Text  \n",
       "1                  0                  0       Text  \n",
       "2                  0                  0       Text  \n",
       "3                  0                  0       Text  \n",
       "4               9517               1215      Video  "
      ]
     },
     "execution_count": 6,
     "metadata": {},
     "output_type": "execute_result"
    }
   ],
   "source": [
    "df.head()"
   ]
  },
  {
   "cell_type": "markdown",
   "id": "d12517ff-81de-4bbf-856a-2bda7bf37fcc",
   "metadata": {},
   "source": [
    "# Tasks: "
   ]
  },
  {
   "cell_type": "markdown",
   "id": "5e69e3a9-48fe-4a64-ae6b-aa60684e957c",
   "metadata": {},
   "source": [
    "## 1) What is the typical engagement rate we can expect? What's the likelihood that we can achieve a 15% engagement rate?\n",
    "Considering the dataset possesses both engagements and impressions, the engagement rate by impressions will be calculated with the following formula: $$ Engagement Rate  = (\\frac{engagements}{impressions}) * 100$$\n",
    "Typical engagement rate will be interpreted as the average engagement rate of the dataset and will be calculated with the formula: $$ Typical Engagement Rate = (\\frac{\\sum{engagementRates}}{totalPosts}) * 100$$"
   ]
  },
  {
   "cell_type": "code",
   "execution_count": 7,
   "id": "3dcb2232-e57d-41d0-8071-43a1b54bc6f2",
   "metadata": {},
   "outputs": [],
   "source": [
    "def engagementRate(engagements, impressions):\n",
    "    return (engagements / impressions) * 100\n",
    "\n",
    "def averageEngagementRate(engagementRates):\n",
    "    return np.mean(engagementRates)"
   ]
  },
  {
   "cell_type": "markdown",
   "id": "62078303-fe03-4376-a6e7-fffdd0d0cd52",
   "metadata": {},
   "source": [
    "Looking at the engagement rate formula, we know that the impressions can never be 0 or we risk dividing by 0. We solve this problem by removing all posts with 0 impressions from the dataset."
   ]
  },
  {
   "cell_type": "code",
   "execution_count": 8,
   "id": "4cee2785-7c48-4862-9834-63ec9b974b42",
   "metadata": {},
   "outputs": [
    {
     "data": {
      "text/plain": [
       "0"
      ]
     },
     "execution_count": 8,
     "metadata": {},
     "output_type": "execute_result"
    }
   ],
   "source": [
    "badIndexes = df.query(\"Total_Impressions == 0\").index\n",
    "df = df.drop(badIndexes).reset_index(drop=True)\n",
    "df.query(\"Total_Impressions == 0\").size"
   ]
  },
  {
   "cell_type": "code",
   "execution_count": 9,
   "id": "718bacc9-3329-4820-938c-e9b491eaf1dd",
   "metadata": {},
   "outputs": [
    {
     "name": "stdout",
     "output_type": "stream",
     "text": [
      "The typical engagement rate we can expect is 40.49%\n"
     ]
    }
   ],
   "source": [
    "engagementRates = engagementRate(df.Total_Engagements, df.Total_Impressions)\n",
    "typicalEngagementRate = averageEngagementRate(engagementRates)\n",
    "print(\"The typical engagement rate we can expect is {0:.2f}%\".format(typicalEngagementRate))"
   ]
  },
  {
   "cell_type": "markdown",
   "id": "14498094-adfe-4e3b-b68d-4d4e63379749",
   "metadata": {},
   "source": [
    "The average engagement rate here is abnormally high especially since normal engagement rates tend to fall between 1% and 3%. Since numbers this big tend to be caused by large outliers, we begin by checking if any engagement rate is larger than 100%. All engagement rates should be less than or equal to 100% considering it's a ratio. "
   ]
  },
  {
   "cell_type": "code",
   "execution_count": 10,
   "id": "83405aad-445a-423d-9ed7-2e584356ad50",
   "metadata": {},
   "outputs": [
    {
     "name": "stdout",
     "output_type": "stream",
     "text": [
      "Investigate\n"
     ]
    }
   ],
   "source": [
    "if any(er > 100 for er in engagementRates):\n",
    "    print(\"Investigate\")\n",
    "else:\n",
    "    print(\"All good\")"
   ]
  },
  {
   "cell_type": "code",
   "execution_count": 11,
   "id": "41191c09-4bba-4e74-8dae-c75e7a7d1765",
   "metadata": {},
   "outputs": [
    {
     "data": {
      "text/html": [
       "<div>\n",
       "<style scoped>\n",
       "    .dataframe tbody tr th:only-of-type {\n",
       "        vertical-align: middle;\n",
       "    }\n",
       "\n",
       "    .dataframe tbody tr th {\n",
       "        vertical-align: top;\n",
       "    }\n",
       "\n",
       "    .dataframe thead th {\n",
       "        text-align: right;\n",
       "    }\n",
       "</style>\n",
       "<table border=\"1\" class=\"dataframe\">\n",
       "  <thead>\n",
       "    <tr style=\"text-align: right;\">\n",
       "      <th></th>\n",
       "      <th>Published_Date</th>\n",
       "      <th>Account</th>\n",
       "      <th>Account_Type</th>\n",
       "      <th>Campaign_Name</th>\n",
       "      <th>Total_Impressions</th>\n",
       "      <th>Total_Engagements</th>\n",
       "      <th>Media_Type</th>\n",
       "    </tr>\n",
       "  </thead>\n",
       "  <tbody>\n",
       "    <tr>\n",
       "      <th>642</th>\n",
       "      <td>2023-03-10 12:37:06</td>\n",
       "      <td>General</td>\n",
       "      <td>FBPAGE</td>\n",
       "      <td>N/A</td>\n",
       "      <td>1</td>\n",
       "      <td>940</td>\n",
       "      <td>Photo</td>\n",
       "    </tr>\n",
       "    <tr>\n",
       "      <th>2545</th>\n",
       "      <td>2023-01-19 06:02:34</td>\n",
       "      <td>General</td>\n",
       "      <td>FBPAGE</td>\n",
       "      <td>N/A</td>\n",
       "      <td>5</td>\n",
       "      <td>44</td>\n",
       "      <td>Photo</td>\n",
       "    </tr>\n",
       "    <tr>\n",
       "      <th>2725</th>\n",
       "      <td>2023-01-05 11:55:44</td>\n",
       "      <td>General</td>\n",
       "      <td>FBPAGE</td>\n",
       "      <td>N/A</td>\n",
       "      <td>300</td>\n",
       "      <td>3776</td>\n",
       "      <td>Photo</td>\n",
       "    </tr>\n",
       "  </tbody>\n",
       "</table>\n",
       "</div>"
      ],
      "text/plain": [
       "          Published_Date  Account Account_Type Campaign_Name  \\\n",
       "642  2023-03-10 12:37:06  General       FBPAGE           N/A   \n",
       "2545 2023-01-19 06:02:34  General       FBPAGE           N/A   \n",
       "2725 2023-01-05 11:55:44  General       FBPAGE           N/A   \n",
       "\n",
       "      Total_Impressions  Total_Engagements Media_Type  \n",
       "642                   1                940      Photo  \n",
       "2545                  5                 44      Photo  \n",
       "2725                300               3776      Photo  "
      ]
     },
     "execution_count": 11,
     "metadata": {},
     "output_type": "execute_result"
    }
   ],
   "source": [
    "df.query(\"Total_Engagements > Total_Impressions\")"
   ]
  },
  {
   "cell_type": "markdown",
   "id": "df698093-9524-4373-904d-6956306b4eb1",
   "metadata": {},
   "source": [
    "It seems we found the culprit! There are a few post where the total engagements for the post is larger than the total impressions of the post which is impossible. We consider this an error in data collection, delete these posts from the dataset, and recalculate the typical engagement rate."
   ]
  },
  {
   "cell_type": "code",
   "execution_count": 12,
   "id": "a9363b50-8cbc-41cc-994a-1516f06093b1",
   "metadata": {},
   "outputs": [
    {
     "data": {
      "text/plain": [
       "0"
      ]
     },
     "execution_count": 12,
     "metadata": {},
     "output_type": "execute_result"
    }
   ],
   "source": [
    "badIndexes = df.query(\"Total_Engagements > Total_Impressions\").index\n",
    "df = df.drop(badIndexes).reset_index(drop=True)\n",
    "df.query(\"Total_Engagements > Total_Impressions\").size"
   ]
  },
  {
   "cell_type": "code",
   "execution_count": 13,
   "id": "52392ae7-ffdd-4ea8-9814-3ba2292582d8",
   "metadata": {},
   "outputs": [
    {
     "name": "stdout",
     "output_type": "stream",
     "text": [
      "The typical engagement rate we can expect is 5.35%\n"
     ]
    }
   ],
   "source": [
    "engagementRates = engagementRate(df.Total_Engagements, df.Total_Impressions)\n",
    "typicalEngagementRate = averageEngagementRate(engagementRates)\n",
    "print(\"The typical engagement rate we can expect is {0:.2f}%\".format(typicalEngagementRate))"
   ]
  },
  {
   "cell_type": "markdown",
   "id": "544e2118-3cee-4518-928d-e9d32160d0c0",
   "metadata": {},
   "source": [
    "This number makes a lot more sense and has the added bonus of showcasing great engagement from posts on average. "
   ]
  },
  {
   "cell_type": "code",
   "execution_count": 14,
   "id": "01c48f0c-62e7-4d7f-9469-4a1c068079d8",
   "metadata": {},
   "outputs": [
    {
     "data": {
      "text/html": [
       "<div>\n",
       "<style scoped>\n",
       "    .dataframe tbody tr th:only-of-type {\n",
       "        vertical-align: middle;\n",
       "    }\n",
       "\n",
       "    .dataframe tbody tr th {\n",
       "        vertical-align: top;\n",
       "    }\n",
       "\n",
       "    .dataframe thead th {\n",
       "        text-align: right;\n",
       "    }\n",
       "</style>\n",
       "<table border=\"1\" class=\"dataframe\">\n",
       "  <thead>\n",
       "    <tr style=\"text-align: right;\">\n",
       "      <th></th>\n",
       "      <th>Published_Date</th>\n",
       "      <th>Account</th>\n",
       "      <th>Account_Type</th>\n",
       "      <th>Campaign_Name</th>\n",
       "      <th>Total_Impressions</th>\n",
       "      <th>Total_Engagements</th>\n",
       "      <th>Media_Type</th>\n",
       "      <th>Engagement_Rates</th>\n",
       "    </tr>\n",
       "  </thead>\n",
       "  <tbody>\n",
       "    <tr>\n",
       "      <th>0</th>\n",
       "      <td>2023-03-31 19:43:42.590</td>\n",
       "      <td>CSGO</td>\n",
       "      <td>TWITTER</td>\n",
       "      <td>Community_Engagement</td>\n",
       "      <td>9517</td>\n",
       "      <td>1215</td>\n",
       "      <td>Video</td>\n",
       "      <td>12.766628</td>\n",
       "    </tr>\n",
       "    <tr>\n",
       "      <th>1</th>\n",
       "      <td>2023-03-31 19:40:57.383</td>\n",
       "      <td>CSGO</td>\n",
       "      <td>TWITTER</td>\n",
       "      <td>Community_Engagement</td>\n",
       "      <td>1882</td>\n",
       "      <td>83</td>\n",
       "      <td>Photo</td>\n",
       "      <td>4.410202</td>\n",
       "    </tr>\n",
       "    <tr>\n",
       "      <th>2</th>\n",
       "      <td>2023-03-31 19:23:57.349</td>\n",
       "      <td>CSGO</td>\n",
       "      <td>TWITTER</td>\n",
       "      <td>Community_Engagement</td>\n",
       "      <td>17892</td>\n",
       "      <td>3076</td>\n",
       "      <td>Video</td>\n",
       "      <td>17.192041</td>\n",
       "    </tr>\n",
       "    <tr>\n",
       "      <th>3</th>\n",
       "      <td>2023-03-31 18:55:51.855</td>\n",
       "      <td>CSGO</td>\n",
       "      <td>TWITTER</td>\n",
       "      <td>Community_Engagement</td>\n",
       "      <td>13874</td>\n",
       "      <td>1447</td>\n",
       "      <td>Video</td>\n",
       "      <td>10.429581</td>\n",
       "    </tr>\n",
       "    <tr>\n",
       "      <th>4</th>\n",
       "      <td>2023-03-31 18:36:01.000</td>\n",
       "      <td>General</td>\n",
       "      <td>FBPAGE</td>\n",
       "      <td>Community_Engagement</td>\n",
       "      <td>37692</td>\n",
       "      <td>8044</td>\n",
       "      <td>Photo</td>\n",
       "      <td>21.341399</td>\n",
       "    </tr>\n",
       "  </tbody>\n",
       "</table>\n",
       "</div>"
      ],
      "text/plain": [
       "           Published_Date  Account Account_Type         Campaign_Name  \\\n",
       "0 2023-03-31 19:43:42.590     CSGO      TWITTER  Community_Engagement   \n",
       "1 2023-03-31 19:40:57.383     CSGO      TWITTER  Community_Engagement   \n",
       "2 2023-03-31 19:23:57.349     CSGO      TWITTER  Community_Engagement   \n",
       "3 2023-03-31 18:55:51.855     CSGO      TWITTER  Community_Engagement   \n",
       "4 2023-03-31 18:36:01.000  General       FBPAGE  Community_Engagement   \n",
       "\n",
       "   Total_Impressions  Total_Engagements Media_Type  Engagement_Rates  \n",
       "0               9517               1215      Video         12.766628  \n",
       "1               1882                 83      Photo          4.410202  \n",
       "2              17892               3076      Video         17.192041  \n",
       "3              13874               1447      Video         10.429581  \n",
       "4              37692               8044      Photo         21.341399  "
      ]
     },
     "execution_count": 14,
     "metadata": {},
     "output_type": "execute_result"
    }
   ],
   "source": [
    "df[\"Engagement_Rates\"] = engagementRates\n",
    "df.head()"
   ]
  },
  {
   "cell_type": "markdown",
   "id": "0cc32e2b-0543-4102-8b5f-ed3212cfd4f9",
   "metadata": {},
   "source": [
    "To calculate the likelihood of achieving a 15% engagement rate, we can use a probability distributution to determine the probability of achieving such an engagement rate. The problem is, which one to use? We start our investigation by plotting a histogram of the engagement rate values. "
   ]
  },
  {
   "cell_type": "code",
   "execution_count": 15,
   "id": "45741691-100e-4e64-be10-eec33c551580",
   "metadata": {},
   "outputs": [
    {
     "data": {
      "text/plain": [
       "Text(0, 0.5, 'Frequency')"
      ]
     },
     "execution_count": 15,
     "metadata": {},
     "output_type": "execute_result"
    },
    {
     "data": {
      "image/png": "[encoded data removed]",
      "text/plain": [
       "<Figure size 640x480 with 1 Axes>"
      ]
     },
     "metadata": {},
     "output_type": "display_data"
    }
   ],
   "source": [
    "plt.hist(df.Engagement_Rates, edgecolor = \"black\", bins = 20)\n",
    "plt.title(\"Engagement Rate Histogram\")\n",
    "plt.xlabel(\"Engagement Rate\")\n",
    "plt.ylabel(\"Frequency\")"
   ]
  },
  {
   "cell_type": "markdown",
   "id": "ee9beb6b-b2c2-49de-a860-25e8b303c772",
   "metadata": {},
   "source": [
    "The engagement rate data seems to follow a right-skewed distribution. The initial impression is that this follows a lognormal distribution. We can test this by transforming the engagement rates using the natural logarithm and plotting the histogram again to see if it follows a normal distribution. "
   ]
  },
  {
   "cell_type": "code",
   "execution_count": 16,
   "id": "c55100bf-f542-452e-a276-82aca2186d73",
   "metadata": {},
   "outputs": [
    {
     "data": {
      "text/html": [
       "<div>\n",
       "<style scoped>\n",
       "    .dataframe tbody tr th:only-of-type {\n",
       "        vertical-align: middle;\n",
       "    }\n",
       "\n",
       "    .dataframe tbody tr th {\n",
       "        vertical-align: top;\n",
       "    }\n",
       "\n",
       "    .dataframe thead th {\n",
       "        text-align: right;\n",
       "    }\n",
       "</style>\n",
       "<table border=\"1\" class=\"dataframe\">\n",
       "  <thead>\n",
       "    <tr style=\"text-align: right;\">\n",
       "      <th></th>\n",
       "      <th>Published_Date</th>\n",
       "      <th>Account</th>\n",
       "      <th>Account_Type</th>\n",
       "      <th>Campaign_Name</th>\n",
       "      <th>Total_Impressions</th>\n",
       "      <th>Total_Engagements</th>\n",
       "      <th>Media_Type</th>\n",
       "      <th>Engagement_Rates</th>\n",
       "    </tr>\n",
       "  </thead>\n",
       "  <tbody>\n",
       "    <tr>\n",
       "      <th>0</th>\n",
       "      <td>2023-03-31 19:43:42.590</td>\n",
       "      <td>CSGO</td>\n",
       "      <td>TWITTER</td>\n",
       "      <td>Community_Engagement</td>\n",
       "      <td>9517</td>\n",
       "      <td>1215</td>\n",
       "      <td>Video</td>\n",
       "      <td>12.766628</td>\n",
       "    </tr>\n",
       "    <tr>\n",
       "      <th>1</th>\n",
       "      <td>2023-03-31 19:40:57.383</td>\n",
       "      <td>CSGO</td>\n",
       "      <td>TWITTER</td>\n",
       "      <td>Community_Engagement</td>\n",
       "      <td>1882</td>\n",
       "      <td>83</td>\n",
       "      <td>Photo</td>\n",
       "      <td>4.410202</td>\n",
       "    </tr>\n",
       "    <tr>\n",
       "      <th>2</th>\n",
       "      <td>2023-03-31 19:23:57.349</td>\n",
       "      <td>CSGO</td>\n",
       "      <td>TWITTER</td>\n",
       "      <td>Community_Engagement</td>\n",
       "      <td>17892</td>\n",
       "      <td>3076</td>\n",
       "      <td>Video</td>\n",
       "      <td>17.192041</td>\n",
       "    </tr>\n",
       "    <tr>\n",
       "      <th>3</th>\n",
       "      <td>2023-03-31 18:55:51.855</td>\n",
       "      <td>CSGO</td>\n",
       "      <td>TWITTER</td>\n",
       "      <td>Community_Engagement</td>\n",
       "      <td>13874</td>\n",
       "      <td>1447</td>\n",
       "      <td>Video</td>\n",
       "      <td>10.429581</td>\n",
       "    </tr>\n",
       "    <tr>\n",
       "      <th>4</th>\n",
       "      <td>2023-03-31 18:36:01.000</td>\n",
       "      <td>General</td>\n",
       "      <td>FBPAGE</td>\n",
       "      <td>Community_Engagement</td>\n",
       "      <td>37692</td>\n",
       "      <td>8044</td>\n",
       "      <td>Photo</td>\n",
       "      <td>21.341399</td>\n",
       "    </tr>\n",
       "  </tbody>\n",
       "</table>\n",
       "</div>"
      ],
      "text/plain": [
       "           Published_Date  Account Account_Type         Campaign_Name  \\\n",
       "0 2023-03-31 19:43:42.590     CSGO      TWITTER  Community_Engagement   \n",
       "1 2023-03-31 19:40:57.383     CSGO      TWITTER  Community_Engagement   \n",
       "2 2023-03-31 19:23:57.349     CSGO      TWITTER  Community_Engagement   \n",
       "3 2023-03-31 18:55:51.855     CSGO      TWITTER  Community_Engagement   \n",
       "4 2023-03-31 18:36:01.000  General       FBPAGE  Community_Engagement   \n",
       "\n",
       "   Total_Impressions  Total_Engagements Media_Type  Engagement_Rates  \n",
       "0               9517               1215      Video         12.766628  \n",
       "1               1882                 83      Photo          4.410202  \n",
       "2              17892               3076      Video         17.192041  \n",
       "3              13874               1447      Video         10.429581  \n",
       "4              37692               8044      Photo         21.341399  "
      ]
     },
     "execution_count": 16,
     "metadata": {},
     "output_type": "execute_result"
    }
   ],
   "source": [
    "badIndexes = df.query(\"Engagement_Rates == 0\").index\n",
    "probDF = df.drop(badIndexes).reset_index(drop=True)\n",
    "probDF.head()"
   ]
  },
  {
   "cell_type": "code",
   "execution_count": 17,
   "id": "dc06d5e2-bb2d-4e93-b469-5b062d1ada16",
   "metadata": {},
   "outputs": [
    {
     "data": {
      "text/plain": [
       "Text(0, 0.5, 'Frequency')"
      ]
     },
     "execution_count": 17,
     "metadata": {},
     "output_type": "execute_result"
    },
    {
     "data": {
      "image/png": "[encoded data removed]",
      "text/plain": [
       "<Figure size 640x480 with 1 Axes>"
      ]
     },
     "metadata": {},
     "output_type": "display_data"
    }
   ],
   "source": [
    "logERS = np.log(probDF.Engagement_Rates)\n",
    "plt.hist(logERS, edgecolor = \"black\", bins = 20)\n",
    "plt.title(\"Logarithmic Engagement Rate Histogram\")\n",
    "plt.xlabel(\"Logarithmic Engagement Rate\")\n",
    "plt.ylabel(\"Frequency\")"
   ]
  },
  {
   "cell_type": "markdown",
   "id": "b9f4d1d9-cdf8-48f4-a51b-fbefb3641ebc",
   "metadata": {},
   "source": [
    "Bingo! Looks like the initial impression was spot on, the transformed data does indeed follow a normal distribution. From here, we just fit the lognormal distribution to the data and use the cumulative distribution function to calculate the probability of obtaining a 15% engagement rate."
   ]
  },
  {
   "cell_type": "code",
   "execution_count": 18,
   "id": "93142dea-cce4-4820-8a94-4296f88f6d4e",
   "metadata": {},
   "outputs": [
    {
     "name": "stdout",
     "output_type": "stream",
     "text": [
      "The likelihood of achieving a 15% engagement rate is 7.56%\n"
     ]
    }
   ],
   "source": [
    "shape, loc, scale = lognorm.fit(df.Engagement_Rates)\n",
    "probability = 1 - lognorm(shape, loc, scale).cdf(15)\n",
    "probability = probability * 100\n",
    "print(\"The likelihood of achieving a 15% engagement rate is {0:.2f}%\".format(probability))"
   ]
  },
  {
   "cell_type": "markdown",
   "id": "3383791b-18a9-48f3-a801-4bd4783c4eb2",
   "metadata": {},
   "source": [
    "## 2) Does the day of the week and time of posting affect engagement rates?"
   ]
  },
  {
   "cell_type": "code",
   "execution_count": 19,
   "id": "d3d44d56-801c-4ca1-8a91-543dfe8408f6",
   "metadata": {},
   "outputs": [
    {
     "data": {
      "text/plain": [
       "Timedelta('87 days 09:09:39.152000')"
      ]
     },
     "execution_count": 19,
     "metadata": {},
     "output_type": "execute_result"
    }
   ],
   "source": [
    "dateDF = df.sort_values(\"Published_Date\")\n",
    "dateDF.Published_Date.max() - dateDF.Published_Date.min()"
   ]
  },
  {
   "cell_type": "code",
   "execution_count": 20,
   "id": "5298f439-46d2-46e1-a4f3-ecde249e6245",
   "metadata": {},
   "outputs": [
    {
     "data": {
      "text/html": [
       "<div>\n",
       "<style scoped>\n",
       "    .dataframe tbody tr th:only-of-type {\n",
       "        vertical-align: middle;\n",
       "    }\n",
       "\n",
       "    .dataframe tbody tr th {\n",
       "        vertical-align: top;\n",
       "    }\n",
       "\n",
       "    .dataframe thead th {\n",
       "        text-align: right;\n",
       "    }\n",
       "</style>\n",
       "<table border=\"1\" class=\"dataframe\">\n",
       "  <thead>\n",
       "    <tr style=\"text-align: right;\">\n",
       "      <th></th>\n",
       "      <th>Day</th>\n",
       "      <th>Average_Engagement_Rate</th>\n",
       "    </tr>\n",
       "  </thead>\n",
       "  <tbody>\n",
       "    <tr>\n",
       "      <th>5</th>\n",
       "      <td>Saturday</td>\n",
       "      <td>3.779530</td>\n",
       "    </tr>\n",
       "    <tr>\n",
       "      <th>2</th>\n",
       "      <td>Wednesday</td>\n",
       "      <td>4.453678</td>\n",
       "    </tr>\n",
       "    <tr>\n",
       "      <th>0</th>\n",
       "      <td>Monday</td>\n",
       "      <td>4.517345</td>\n",
       "    </tr>\n",
       "    <tr>\n",
       "      <th>4</th>\n",
       "      <td>Friday</td>\n",
       "      <td>5.087298</td>\n",
       "    </tr>\n",
       "    <tr>\n",
       "      <th>6</th>\n",
       "      <td>Sunday</td>\n",
       "      <td>5.897657</td>\n",
       "    </tr>\n",
       "    <tr>\n",
       "      <th>3</th>\n",
       "      <td>Thursday</td>\n",
       "      <td>6.103462</td>\n",
       "    </tr>\n",
       "    <tr>\n",
       "      <th>1</th>\n",
       "      <td>Tuesday</td>\n",
       "      <td>6.535451</td>\n",
       "    </tr>\n",
       "  </tbody>\n",
       "</table>\n",
       "</div>"
      ],
      "text/plain": [
       "         Day  Average_Engagement_Rate\n",
       "5   Saturday                 3.779530\n",
       "2  Wednesday                 4.453678\n",
       "0     Monday                 4.517345\n",
       "4     Friday                 5.087298\n",
       "6     Sunday                 5.897657\n",
       "3   Thursday                 6.103462\n",
       "1    Tuesday                 6.535451"
      ]
     },
     "execution_count": 20,
     "metadata": {},
     "output_type": "execute_result"
    }
   ],
   "source": [
    "days = dateDF.groupby(dateDF.Published_Date.dt.weekday)[\"Engagement_Rates\"].mean()\n",
    "weekdays = [\"Monday\", \"Tuesday\", \"Wednesday\", \"Thursday\", \"Friday\", \"Saturday\", \"Sunday\"]\n",
    "data = {\"Day\" : weekdays, \"Average_Engagement_Rate\": days.values}\n",
    "days = pd.DataFrame(data)\n",
    "days.sort_values(\"Average_Engagement_Rate\", inplace = True)\n",
    "days"
   ]
  },
  {
   "cell_type": "code",
   "execution_count": 21,
   "id": "fe52317d-967c-40ef-8676-8c28785453c1",
   "metadata": {},
   "outputs": [
    {
     "data": {
      "image/png": "[encoded data removed]",
      "text/plain": [
       "<Figure size 1000x400 with 1 Axes>"
      ]
     },
     "metadata": {},
     "output_type": "display_data"
    }
   ],
   "source": [
    "fig, ax = plt.subplots(figsize=(10, 4))\n",
    "\n",
    "ax.bar(\"Day\", \"Average_Engagement_Rate\", data = days, edgecolor = \"black\")\n",
    "ax.axhline(y = typicalEngagementRate, color = \"r\", linestyle = \"-\")\n",
    "\n",
    "plt.title(\"Average Engagement Rate by Day of the Week\")\n",
    "plt.xlabel(\"Day of the Week\")\n",
    "plt.ylabel(\"Average Engagement Rate\")\n",
    "\n",
    "plt.legend([\"Global Average Engagement Rate\", \"Average Engagement Rate by Day\"])\n",
    "plt.show()"
   ]
  },
  {
   "cell_type": "code",
   "execution_count": 24,
   "id": "914bf6b4-406a-449c-a5c6-ba85bab92226",
   "metadata": {},
   "outputs": [
    {
     "data": {
      "text/html": [
       "<div>\n",
       "<style scoped>\n",
       "    .dataframe tbody tr th:only-of-type {\n",
       "        vertical-align: middle;\n",
       "    }\n",
       "\n",
       "    .dataframe tbody tr th {\n",
       "        vertical-align: top;\n",
       "    }\n",
       "\n",
       "    .dataframe thead th {\n",
       "        text-align: right;\n",
       "    }\n",
       "</style>\n",
       "<table border=\"1\" class=\"dataframe\">\n",
       "  <thead>\n",
       "    <tr style=\"text-align: right;\">\n",
       "      <th></th>\n",
       "      <th>Hour</th>\n",
       "      <th>Average_Engagement_Rate</th>\n",
       "    </tr>\n",
       "  </thead>\n",
       "  <tbody>\n",
       "    <tr>\n",
       "      <th>0</th>\n",
       "      <td>2:00am</td>\n",
       "      <td>0.840156</td>\n",
       "    </tr>\n",
       "    <tr>\n",
       "      <th>20</th>\n",
       "      <td>10:00pm</td>\n",
       "      <td>2.059433</td>\n",
       "    </tr>\n",
       "    <tr>\n",
       "      <th>21</th>\n",
       "      <td>11:00pm</td>\n",
       "      <td>2.859394</td>\n",
       "    </tr>\n",
       "    <tr>\n",
       "      <th>17</th>\n",
       "      <td>7:00pm</td>\n",
       "      <td>4.359814</td>\n",
       "    </tr>\n",
       "    <tr>\n",
       "      <th>13</th>\n",
       "      <td>3:00pm</td>\n",
       "      <td>4.520424</td>\n",
       "    </tr>\n",
       "    <tr>\n",
       "      <th>9</th>\n",
       "      <td>11:00am</td>\n",
       "      <td>4.527071</td>\n",
       "    </tr>\n",
       "    <tr>\n",
       "      <th>16</th>\n",
       "      <td>6:00pm</td>\n",
       "      <td>4.557921</td>\n",
       "    </tr>\n",
       "    <tr>\n",
       "      <th>8</th>\n",
       "      <td>10:00am</td>\n",
       "      <td>4.763516</td>\n",
       "    </tr>\n",
       "    <tr>\n",
       "      <th>18</th>\n",
       "      <td>8:00pm</td>\n",
       "      <td>4.787907</td>\n",
       "    </tr>\n",
       "    <tr>\n",
       "      <th>11</th>\n",
       "      <td>1:00pm</td>\n",
       "      <td>4.912188</td>\n",
       "    </tr>\n",
       "    <tr>\n",
       "      <th>12</th>\n",
       "      <td>2:00pm</td>\n",
       "      <td>5.046390</td>\n",
       "    </tr>\n",
       "    <tr>\n",
       "      <th>10</th>\n",
       "      <td>12:00pm</td>\n",
       "      <td>5.050605</td>\n",
       "    </tr>\n",
       "    <tr>\n",
       "      <th>14</th>\n",
       "      <td>4:00pm</td>\n",
       "      <td>5.320484</td>\n",
       "    </tr>\n",
       "    <tr>\n",
       "      <th>15</th>\n",
       "      <td>5:00pm</td>\n",
       "      <td>5.337955</td>\n",
       "    </tr>\n",
       "    <tr>\n",
       "      <th>2</th>\n",
       "      <td>4:00am</td>\n",
       "      <td>5.575346</td>\n",
       "    </tr>\n",
       "    <tr>\n",
       "      <th>1</th>\n",
       "      <td>3:00am</td>\n",
       "      <td>5.656221</td>\n",
       "    </tr>\n",
       "    <tr>\n",
       "      <th>19</th>\n",
       "      <td>9:00pm</td>\n",
       "      <td>6.089147</td>\n",
       "    </tr>\n",
       "    <tr>\n",
       "      <th>7</th>\n",
       "      <td>9:00am</td>\n",
       "      <td>6.166991</td>\n",
       "    </tr>\n",
       "    <tr>\n",
       "      <th>5</th>\n",
       "      <td>7:00am</td>\n",
       "      <td>6.656849</td>\n",
       "    </tr>\n",
       "    <tr>\n",
       "      <th>6</th>\n",
       "      <td>8:00am</td>\n",
       "      <td>7.409689</td>\n",
       "    </tr>\n",
       "    <tr>\n",
       "      <th>4</th>\n",
       "      <td>6:00am</td>\n",
       "      <td>7.962271</td>\n",
       "    </tr>\n",
       "    <tr>\n",
       "      <th>3</th>\n",
       "      <td>5:00am</td>\n",
       "      <td>11.488999</td>\n",
       "    </tr>\n",
       "  </tbody>\n",
       "</table>\n",
       "</div>"
      ],
      "text/plain": [
       "       Hour  Average_Engagement_Rate\n",
       "0    2:00am                 0.840156\n",
       "20  10:00pm                 2.059433\n",
       "21  11:00pm                 2.859394\n",
       "17   7:00pm                 4.359814\n",
       "13   3:00pm                 4.520424\n",
       "9   11:00am                 4.527071\n",
       "16   6:00pm                 4.557921\n",
       "8   10:00am                 4.763516\n",
       "18   8:00pm                 4.787907\n",
       "11   1:00pm                 4.912188\n",
       "12   2:00pm                 5.046390\n",
       "10  12:00pm                 5.050605\n",
       "14   4:00pm                 5.320484\n",
       "15   5:00pm                 5.337955\n",
       "2    4:00am                 5.575346\n",
       "1    3:00am                 5.656221\n",
       "19   9:00pm                 6.089147\n",
       "7    9:00am                 6.166991\n",
       "5    7:00am                 6.656849\n",
       "6    8:00am                 7.409689\n",
       "4    6:00am                 7.962271\n",
       "3    5:00am                11.488999"
      ]
     },
     "execution_count": 24,
     "metadata": {},
     "output_type": "execute_result"
    }
   ],
   "source": [
    "hours = dateDF.groupby(dateDF.Published_Date.dt.hour)[\"Engagement_Rates\"].mean()\n",
    "times = [\"2:00am\", \"3:00am\", \"4:00am\", \"5:00am\", \"6:00am\", \"7:00am\", \"8:00am\", \"9:00am\", \"10:00am\", \"11:00am\", \"12:00pm\", \n",
    "         \"1:00pm\", \"2:00pm\", \"3:00pm\", \"4:00pm\", \"5:00pm\", \"6:00pm\", \"7:00pm\", \"8:00pm\", \"9:00pm\", \"10:00pm\", \"11:00pm\"]\n",
    "data = {\"Hour\" : times, \"Average_Engagement_Rate\": hours.values}\n",
    "hours = pd.DataFrame(data)\n",
    "hours.sort_values(\"Average_Engagement_Rate\", inplace = True)\n",
    "hours"
   ]
  },
  {
   "cell_type": "code",
   "execution_count": 32,
   "id": "9e69edca-0f5a-4080-8047-2b57a99c7e3f",
   "metadata": {},
   "outputs": [
    {
     "data": {
      "image/png": "[encoded data removed]",
      "text/plain": [
       "<Figure size 2000x500 with 1 Axes>"
      ]
     },
     "metadata": {},
     "output_type": "display_data"
    }
   ],
   "source": [
    "fig, ax = plt.subplots(figsize=(20, 5))\n",
    "\n",
    "ax.stem(\"Hour\", \"Average_Engagement_Rate\", data = hours, basefmt = \" \")\n",
    "ax.axhline(y = typicalEngagementRate, color = \"r\", linestyle = \"-\")\n",
    "\n",
    "plt.title(\"Average Engagement Rate by Hour of the Day\")\n",
    "plt.xlabel(\"Hour of the Day\")\n",
    "plt.ylabel(\"Average Engagement Rate\")\n",
    "\n",
    "plt.legend([\"Global Average Engagement Rate\", \"Average Engagement Rate by Hour\"])\n",
    "plt.show()"
   ]
  },
  {
   "cell_type": "markdown",
   "id": "c0c7aeca-ca83-4983-af90-899522e2e482",
   "metadata": {},
   "source": [
    "## 3) How are our game titles doing in terms of social performance? Is there a specific game we should focus more or less on?"
   ]
  },
  {
   "cell_type": "markdown",
   "id": "f37f6c5e-695b-4889-a0a0-d45cd5243996",
   "metadata": {},
   "source": [
    "## 4) What media type performs the best?"
   ]
  },
  {
   "cell_type": "markdown",
   "id": "28dd4cf5-7c1d-460f-af8e-217007ac89ca",
   "metadata": {},
   "source": [
    "## 5) What is our best performing campaign?"
   ]
  },
  {
   "cell_type": "markdown",
   "id": "be597b04-3f0e-4343-a9f6-43928b79395d",
   "metadata": {},
   "source": [
    "## 6) Define a posting strategy for our social channels based on your discoveries."
   ]
  },
  {
   "cell_type": "markdown",
   "id": "794f1fd1-6b9a-48b3-ad06-340acb02c66e",
   "metadata": {},
   "source": [
    "## 7) What suggestions would you give to the social media team if they want to expand their prescence (e.g if our CSGO youtube channel is doing well, should we expand to TikTok)?"
   ]
  }
 ],
 "metadata": {
  "kernelspec": {
   "display_name": "Python 3 (ipykernel)",
   "language": "python",
   "name": "python3"
  },
  "language_info": {
   "codemirror_mode": {
    "name": "ipython",
    "version": 3
   },
   "file_extension": ".py",
   "mimetype": "text/x-python",
   "name": "python",
   "nbconvert_exporter": "python",
   "pygments_lexer": "ipython3",
   "version": "3.9.16"
  }
 },
 "nbformat": 4,
 "nbformat_minor": 5
}
