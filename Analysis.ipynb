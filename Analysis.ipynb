{
 "cells": [
  {
   "cell_type": "markdown",
   "id": "06a7839c-ebb3-420a-8b73-5079702eb2cb",
   "metadata": {},
   "source": [
    "# Isiah Montalvo Evil Geniuses Data Analyst Internship Assessment"
   ]
  },
  {
   "cell_type": "markdown",
   "id": "dc31bd5b-fc9b-4b02-96f4-3fdb7eabef2b",
   "metadata": {},
   "source": [
    "## Loading the Data"
   ]
  },
  {
   "cell_type": "code",
   "execution_count": 1,
   "id": "338404f0-510e-4a45-bfbc-2e3de34cb6c5",
   "metadata": {},
   "outputs": [],
   "source": [
    "import pandas as pd\n",
    "import numpy as np\n",
    "import matplotlib.pyplot as plt"
   ]
  },
  {
   "cell_type": "code",
   "execution_count": 2,
   "id": "6f0ce590-e214-4b2b-92de-5b3cb7c32ef0",
   "metadata": {},
   "outputs": [
    {
     "data": {
      "text/html": [
       "<div>\n",
       "<style scoped>\n",
       "    .dataframe tbody tr th:only-of-type {\n",
       "        vertical-align: middle;\n",
       "    }\n",
       "\n",
       "    .dataframe tbody tr th {\n",
       "        vertical-align: top;\n",
       "    }\n",
       "\n",
       "    .dataframe thead th {\n",
       "        text-align: right;\n",
       "    }\n",
       "</style>\n",
       "<table border=\"1\" class=\"dataframe\">\n",
       "  <thead>\n",
       "    <tr style=\"text-align: right;\">\n",
       "      <th></th>\n",
       "      <th>Published Date</th>\n",
       "      <th>Account</th>\n",
       "      <th>Account Type</th>\n",
       "      <th>Campaign Name</th>\n",
       "      <th>Total Impressions</th>\n",
       "      <th>Total Engagements</th>\n",
       "      <th>Media Type</th>\n",
       "    </tr>\n",
       "  </thead>\n",
       "  <tbody>\n",
       "    <tr>\n",
       "      <th>0</th>\n",
       "      <td>2023-03-31 19:55:43.192</td>\n",
       "      <td>CSGO</td>\n",
       "      <td>TWITTER</td>\n",
       "      <td>N/A</td>\n",
       "      <td>0</td>\n",
       "      <td>0</td>\n",
       "      <td>Text</td>\n",
       "    </tr>\n",
       "    <tr>\n",
       "      <th>1</th>\n",
       "      <td>2023-03-31 19:49:35.243</td>\n",
       "      <td>CSGO</td>\n",
       "      <td>TWITTER</td>\n",
       "      <td>N/A</td>\n",
       "      <td>0</td>\n",
       "      <td>0</td>\n",
       "      <td>Text</td>\n",
       "    </tr>\n",
       "    <tr>\n",
       "      <th>2</th>\n",
       "      <td>2023-03-31 19:49:33.535</td>\n",
       "      <td>CSGO</td>\n",
       "      <td>TWITTER</td>\n",
       "      <td>N/A</td>\n",
       "      <td>0</td>\n",
       "      <td>0</td>\n",
       "      <td>Text</td>\n",
       "    </tr>\n",
       "    <tr>\n",
       "      <th>3</th>\n",
       "      <td>2023-03-31 19:49:31.583</td>\n",
       "      <td>CSGO</td>\n",
       "      <td>TWITTER</td>\n",
       "      <td>N/A</td>\n",
       "      <td>0</td>\n",
       "      <td>0</td>\n",
       "      <td>Text</td>\n",
       "    </tr>\n",
       "    <tr>\n",
       "      <th>4</th>\n",
       "      <td>2023-03-31 19:43:42.590</td>\n",
       "      <td>CSGO</td>\n",
       "      <td>TWITTER</td>\n",
       "      <td>Community Engagement</td>\n",
       "      <td>9517</td>\n",
       "      <td>1215</td>\n",
       "      <td>Video</td>\n",
       "    </tr>\n",
       "  </tbody>\n",
       "</table>\n",
       "</div>"
      ],
      "text/plain": [
       "           Published Date Account Account Type          Campaign Name  \\\n",
       "0 2023-03-31 19:55:43.192    CSGO      TWITTER                   N/A    \n",
       "1 2023-03-31 19:49:35.243    CSGO      TWITTER                   N/A    \n",
       "2 2023-03-31 19:49:33.535    CSGO      TWITTER                   N/A    \n",
       "3 2023-03-31 19:49:31.583    CSGO      TWITTER                   N/A    \n",
       "4 2023-03-31 19:43:42.590    CSGO      TWITTER  Community Engagement    \n",
       "\n",
       "   Total Impressions  Total Engagements Media Type  \n",
       "0                  0                  0       Text  \n",
       "1                  0                  0       Text  \n",
       "2                  0                  0       Text  \n",
       "3                  0                  0       Text  \n",
       "4               9517               1215      Video  "
      ]
     },
     "execution_count": 2,
     "metadata": {},
     "output_type": "execute_result"
    }
   ],
   "source": [
    "df = pd.read_excel(\"data/social_data.xlsx\")\n",
    "df.head()"
   ]
  },
  {
   "cell_type": "markdown",
   "id": "5faf40d7-48b3-410c-ad81-38541b59e8ec",
   "metadata": {
    "tags": []
   },
   "source": [
    "## Cleaning the Data"
   ]
  },
  {
   "cell_type": "markdown",
   "id": "d12517ff-81de-4bbf-856a-2bda7bf37fcc",
   "metadata": {},
   "source": [
    "# Tasks: \n",
    "## 1) What is the typical engagement rate we can expect? What's the likelihood that we can achieve a 15% engagement rate?"
   ]
  },
  {
   "cell_type": "markdown",
   "id": "3383791b-18a9-48f3-a801-4bd4783c4eb2",
   "metadata": {},
   "source": [
    "## 2) Does the day of the week and time of posting affect engagement rates?"
   ]
  },
  {
   "cell_type": "markdown",
   "id": "c0c7aeca-ca83-4983-af90-899522e2e482",
   "metadata": {},
   "source": [
    "## 3) How are our game titles doing in terms of social performance? Is there a specific game we should focus more or less on?"
   ]
  },
  {
   "cell_type": "markdown",
   "id": "f37f6c5e-695b-4889-a0a0-d45cd5243996",
   "metadata": {},
   "source": [
    "## 4) What media type performs the best?"
   ]
  },
  {
   "cell_type": "markdown",
   "id": "28dd4cf5-7c1d-460f-af8e-217007ac89ca",
   "metadata": {},
   "source": [
    "## 5) What is our best performing campaign?"
   ]
  },
  {
   "cell_type": "markdown",
   "id": "be597b04-3f0e-4343-a9f6-43928b79395d",
   "metadata": {},
   "source": [
    "## 6) Define a posting strategy for our social channels based on your discoveries."
   ]
  },
  {
   "cell_type": "markdown",
   "id": "794f1fd1-6b9a-48b3-ad06-340acb02c66e",
   "metadata": {},
   "source": [
    "## 7) What suggestions would you give to the social media team if they want to expand their prescence (e.g if our CSGO youtube channel is doing well, should we expand to TikTok)?"
   ]
  }
 ],
 "metadata": {
  "kernelspec": {
   "display_name": "Python 3 (ipykernel)",
   "language": "python",
   "name": "python3"
  },
  "language_info": {
   "codemirror_mode": {
    "name": "ipython",
    "version": 3
   },
   "file_extension": ".py",
   "mimetype": "text/x-python",
   "name": "python",
   "nbconvert_exporter": "python",
   "pygments_lexer": "ipython3",
   "version": "3.9.16"
  }
 },
 "nbformat": 4,
 "nbformat_minor": 5
}
